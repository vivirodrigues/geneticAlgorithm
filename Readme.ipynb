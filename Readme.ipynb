{
 "cells": [
  {
   "cell_type": "markdown",
   "metadata": {},
   "source": [
    "## 8-queens puzzle"
   ]
  },
  {
   "cell_type": "markdown",
   "metadata": {},
   "source": [
    "For the 8-queens puzzle we want to obtain a board with 8 queens positioned so as not to attack each other. The problem is modeled as follows:\n",
    "\n",
    "- Coding: the state is represented in a vector of 8 positions, each representing the position of a queen in a column.\n",
    "- Fitness function: returns the number of queens that are not attacking each other. In the case of a tie in the value of the evaluation function, the sample with the lowest number should be considered better.\n",
    "- Initial population: Formed by four states selected randomly.\n"
   ]
  },
  {
   "cell_type": "markdown",
   "metadata": {},
   "source": [
    "An individual is represented by a chromosome, and each gene is the respective position of the queen in the specific column:"
   ]
  },
  {
   "cell_type": "code",
   "execution_count": 2,
   "metadata": {},
   "outputs": [
    {
     "data": {
      "text/plain": [
       "[6, 1, 0, 4, 3, 0, 4, 0]"
      ]
     },
     "execution_count": 2,
     "metadata": {},
     "output_type": "execute_result"
    }
   ],
   "source": [
    "[6,1,0,4,3,0,4,0]"
   ]
  },
  {
   "cell_type": "markdown",
   "metadata": {},
   "source": [
    "The initial population was exhibit as a list, where each item is an individual."
   ]
  },
  {
   "cell_type": "code",
   "execution_count": 3,
   "metadata": {},
   "outputs": [],
   "source": [
    "population = [[6,1,0,4,3,0,4,0],[6,1,6,4,3,0,4,3],[1,1,0,4,3,0,4,0],[6,1,6,4,3,0,4,6]]"
   ]
  },
  {
   "cell_type": "markdown",
   "metadata": {},
   "source": [
    "The code was developed in Python, without AI modules. The modules used were:"
   ]
  },
  {
   "cell_type": "code",
   "execution_count": 4,
   "metadata": {},
   "outputs": [],
   "source": [
    "import random\n",
    "import copy"
   ]
  },
  {
   "cell_type": "markdown",
   "metadata": {},
   "source": [
    "An individual must be represented by a binary matrix. The positions of the queens are demonstrated as \"1\", and the empty positions are represented by \"0\". The function below makes the conversion of positions vector to binary matrix:"
   ]
  },
  {
   "cell_type": "code",
   "execution_count": 5,
   "metadata": {},
   "outputs": [],
   "source": [
    "def transfMatrix(vector):\n",
    "\n",
    "    length = len(vector)\n",
    "    matrix = createMatrix(length,length,0)\n",
    "    \n",
    "    for col in range(len(vector)):\n",
    "        var = vector[col]\n",
    "\n",
    "        for lin in range(len(matrix)):\n",
    "            list1 = matrix[lin]\n",
    "\n",
    "            if lin == var:\n",
    "                matrix[lin][col] = 1\n",
    "\n",
    "    return matrix\n",
    "\n",
    "def createMatrix(numLinhas, numColunas, valor):\n",
    "    matriz = [] # lista vazia\n",
    "    for i in range(numLinhas):\n",
    "        linha = []\n",
    "        for j in range(numColunas):\n",
    "            linha.append(valor)\n",
    "        matriz.append(linha)\n",
    "    return matriz"
   ]
  },
  {
   "cell_type": "markdown",
   "metadata": {},
   "source": [
    "So, the matrix of individual [6,1,0,4,3,0,4,0] can be represented as:"
   ]
  },
  {
   "cell_type": "raw",
   "metadata": {},
   "source": [
    "00100101\n",
    "01000000\n",
    "00000000\n",
    "00001000\n",
    "00010010\n",
    "00000000\n",
    "10000000\n",
    "00000000"
   ]
  },
  {
   "cell_type": "markdown",
   "metadata": {},
   "source": [
    "The fitness function is the number of queens that are not attacking each other. To calculate that, first, we can verify how many queens are attacking each other. The collision function do that:"
   ]
  },
  {
   "cell_type": "code",
   "execution_count": 6,
   "metadata": {},
   "outputs": [],
   "source": [
    "def colision(vector, matrix):\n",
    "\n",
    "    colision = []\n",
    "\n",
    "    for i in range(len(vector)):\n",
    "\n",
    "        a = vector[i] # line of point\n",
    "        b = i # column of point\n",
    "\n",
    "        # line\n",
    "        colisionHorizontally = horizontal(a,b,matrix)\n",
    "        # diagonal\n",
    "        colisionDiagonally = diagonal(a,b,matrix)\n",
    "        total = colisionHorizontally + colisionDiagonally\n",
    "        colision.append(total)\n",
    "        #print(colision[i])\n",
    "        total = 0\n",
    "    \n",
    "    return colision"
   ]
  },
  {
   "cell_type": "code",
   "execution_count": 7,
   "metadata": {},
   "outputs": [],
   "source": [
    "def horizontal(a,b,matrix):\t\n",
    "\n",
    "    colision = 0\n",
    "\n",
    "    for lin in range(len(matrix)):\n",
    "            if lin == a:\n",
    "                for col in range(len(matrix[0])):\n",
    "                    if col > b and matrix[lin][col] == 1:\n",
    "                        colision += 1\n",
    "    return colision"
   ]
  },
  {
   "cell_type": "code",
   "execution_count": 8,
   "metadata": {},
   "outputs": [],
   "source": [
    "def diagonal(a,b,matrix):\n",
    "\n",
    "    colision = 0\n",
    "    len_lin = len(matrix)\n",
    "    len_col = len(matrix[0])\n",
    "\n",
    "    lin = a\n",
    "    col = b\n",
    "\n",
    "    while lin < len_lin and col < len_col:\n",
    "\n",
    "        if matrix[lin][col]==1 and lin > a:\n",
    "            colision += 1\n",
    "\n",
    "        lin += 1\n",
    "        col += 1\n",
    "        if col == 8:\n",
    "            col = 0\n",
    "            break\n",
    "\n",
    "    lin = a\n",
    "    col = b\n",
    "\n",
    "    while lin >= 0 and col >= 0:\n",
    "\n",
    "        if matrix[lin][col]==1 and lin < a:\n",
    "            colision += 1\n",
    "\n",
    "        lin -= 1\n",
    "        col += 1\n",
    "\n",
    "        if col == 8:\n",
    "            col = 0\n",
    "            break\n",
    "\n",
    "    return colision\n"
   ]
  },
  {
   "cell_type": "markdown",
   "metadata": {},
   "source": [
    "With information on the number of queens that are attacking, it is possible to know how many are not colliding. Considering 8 queens, the largest possible number of non-collisions is 28, because: 7 + 6 + 5 + 4 + 3 + 2 + 1 = 28"
   ]
  },
  {
   "cell_type": "code",
   "execution_count": 9,
   "metadata": {},
   "outputs": [],
   "source": [
    "def notColision(colision):\n",
    "\n",
    "    notColi = []\n",
    "    sumColision = 0\n",
    "\n",
    "    for i in range(len(colision)):\n",
    "        sumColision += colision[i] # decreases from queens that collided\n",
    "\n",
    "    notCol = 28 - sumColision\n",
    "\n",
    "    return notCol"
   ]
  },
  {
   "cell_type": "markdown",
   "metadata": {},
   "source": [
    "Then, to calculate the fitness function of the population, we must use the aptitude of each individual. The function bellow uses the idea of collisions to identify the fitness value."
   ]
  },
  {
   "cell_type": "code",
   "execution_count": 10,
   "metadata": {},
   "outputs": [],
   "source": [
    "def fitnessPopulation(population):\n",
    "\n",
    "    len_pop = len(population)\n",
    "    len_individuo = len(population[0])\n",
    "    fitness = []\n",
    "\n",
    "    for i in range(len_pop):\n",
    "\n",
    "        matrix = transfMatrix(population[i])\n",
    "        colisionVector = colision(population[i], matrix)\n",
    "        aptitude = notColision(colisionVector)\n",
    "        fitness.append(aptitude)\n",
    "\n",
    "    return fitness"
   ]
  },
  {
   "cell_type": "markdown",
   "metadata": {},
   "source": [
    "To select individuals, the roulette method is used, described below."
   ]
  },
  {
   "cell_type": "code",
   "execution_count": 11,
   "metadata": {},
   "outputs": [],
   "source": [
    "def roulette(fitness,randomNumber,population):\n",
    "\n",
    "    selected = []\n",
    "    sumFitness = 0\n",
    "\n",
    "    # sum of all valued of fitness\n",
    "    for i in range(len(fitness)):\n",
    "        sumFitness += fitness[i]\n",
    "\n",
    "    # create a list with the probability value about each individual to be selected\n",
    "    probabilities = []\n",
    "\n",
    "    for i in range(len(fitness)):\n",
    "        probability = fitness[i]/sumFitness\n",
    "        probabilities.append(probability)\t\n",
    "\n",
    "    # sort in ascending order\n",
    "    probabilities.sort()\n",
    "\n",
    "    # verify the interval of random number\n",
    "    sum_probabilities = 0\n",
    "    for a in range(len(probabilities)):\n",
    "        sum_probabilities += probabilities[a]\n",
    "        if float(randomNumber) < sum_probabilities:\n",
    "            return population[a]"
   ]
  },
  {
   "cell_type": "markdown",
   "metadata": {},
   "source": [
    "The function below selects individuals using the roulette method. The number of individuals to be selected is described in the amount variable."
   ]
  },
  {
   "cell_type": "code",
   "execution_count": 12,
   "metadata": {},
   "outputs": [],
   "source": [
    "def selectIndiv(fitness,amount,population):\n",
    "\n",
    "    quant = 0\n",
    "    selecteds = []\n",
    "    indivAlreadyStored = False # to verify if the individual has already been stored\n",
    "\n",
    "    while quant != amount: # amount of individuals must be selected\n",
    "\n",
    "        randomNumber = random.random()\n",
    "        #print(\"Random number generated:\", randomNumber)\n",
    "        selected = roulette(fitness,randomNumber,population) # select one individual by roulette\n",
    "        if len(selecteds) > 0:\n",
    "            for j in range(len(selecteds)):\n",
    "                if selecteds[j] == selected: # if the individual selected has already been stored\n",
    "                    indivAlreadyStored = True\n",
    "                else:\n",
    "                    indivAlreadyStored = False\n",
    "            if indivAlreadyStored == False:\n",
    "                selecteds.append(selected)\n",
    "        else:\n",
    "            selecteds.append(selected)\n",
    "        quant = len(selecteds)\n",
    "\n",
    "    if len(selecteds) > 1:\n",
    "        return selecteds\n",
    "    elif len(selecteds) == 1: # if it is just one individual, it is not returned inside other list\n",
    "        return selecteds[0]"
   ]
  },
  {
   "cell_type": "markdown",
   "metadata": {},
   "source": [
    "The recombination (crossover) of individuals is performed using the function below. The \"points\" variable represents the cut-off point of the chromosome."
   ]
  },
  {
   "cell_type": "code",
   "execution_count": 13,
   "metadata": {},
   "outputs": [],
   "source": [
    "def recombinationCrossover(parents,points):\n",
    "\n",
    "    child1 = []\n",
    "    child2 = []\n",
    "    father1 = parents[0]\n",
    "    father2 = parents[1]\n",
    "\n",
    "    if len(points) == 1:\n",
    "        for i in range(len(father1)):\n",
    "            if i <= points:\n",
    "                child1.append(father1[i])\n",
    "            else:\n",
    "                child2.append(father1[i])\n",
    "\n",
    "        for i in range(len(father2)):\n",
    "            if i <= points:\n",
    "                child2.append(father2[i])\n",
    "            else:\n",
    "                child1.append(father2[i])\n",
    "\n",
    "    elif len(points) == 2:\n",
    "\n",
    "        for i in range(len(father1)):\n",
    "            if i <= points[0]:\n",
    "                child1.append(father1[i])\n",
    "                child2.append(father2[i])\n",
    "            elif i <= points[1]:\n",
    "                child1.append(father2[i])\n",
    "                child2.append(father1[i])\n",
    "            else:\n",
    "                child1.append(father1[i])\n",
    "                child2.append(father2[i])\n",
    "\n",
    "    return child1,child2"
   ]
  },
  {
   "cell_type": "markdown",
   "metadata": {},
   "source": [
    "The mutation is performed generatively, using the function below:"
   ]
  },
  {
   "cell_type": "code",
   "execution_count": 14,
   "metadata": {},
   "outputs": [],
   "source": [
    "def mutation(vector, min, max):\n",
    "\n",
    "    allele = random.randrange(min, max+1, 1)\n",
    "    locus = random.randrange(0, len(vector), 1)\n",
    "    vector[locus] = allele\n",
    "\n",
    "    return vector"
   ]
  },
  {
   "cell_type": "markdown",
   "metadata": {},
   "source": [
    "The best individual of the current generation is identified by the highest fitness value:"
   ]
  },
  {
   "cell_type": "code",
   "execution_count": 15,
   "metadata": {},
   "outputs": [],
   "source": [
    "def bestIndividual(fitness,population):\n",
    "            \n",
    "    var = min(fitness)\n",
    "    indice = 0\n",
    "\n",
    "    for i in range(len(fitness)):\n",
    "        if fitness[i] > var:\n",
    "            var = fitness[i]\n",
    "            indice = i\n",
    "\n",
    "    return population[indice]"
   ]
  },
  {
   "cell_type": "markdown",
   "metadata": {},
   "source": [
    "The next generation is created out of elitism, where two individuals from the previous generation crossover, one mutates and the best individual remains alive."
   ]
  },
  {
   "cell_type": "code",
   "execution_count": 16,
   "metadata": {},
   "outputs": [],
   "source": [
    "def nextGeneration(aptitude, lastGen):\n",
    "\n",
    "    before = copy.deepcopy(lastGen)\n",
    "    points = []\n",
    "    generation = []\n",
    "    length = len(aptitude)\n",
    "    points.append(random.randrange(0, length, 1))\n",
    "    points.append(random.randrange(0, length, 1))\n",
    "\n",
    "    # crossover\n",
    "    amountParents = 2\n",
    "    selecteds = selectIndiv(aptitude,amountParents,lastGen)\t\n",
    "    children = recombinationCrossover(selecteds,points)\t\n",
    "    generation.append(children[0])\n",
    "    generation.append(children[1])\n",
    "\n",
    "    # mutation\n",
    "    amountIndividuals = 1\n",
    "    selected = selectIndiv(aptitude,amountIndividuals,lastGen)\n",
    "    mutated = mutation(selected,0,7)\n",
    "    generation.append(mutated)\n",
    "\n",
    "    # best individual\n",
    "    bestIndiv = bestIndividual(aptitude,before)\n",
    "    generation.append(bestIndiv)\n",
    "\n",
    "    return generation\n"
   ]
  },
  {
   "cell_type": "code",
   "execution_count": 19,
   "metadata": {},
   "outputs": [
    {
     "name": "stdout",
     "output_type": "stream",
     "text": [
      "You got it\n",
      "Generation 289\n",
      "Result:  [4, 1, 7, 0, 3, 6, 2, 5] Aptitude: 28\n"
     ]
    }
   ],
   "source": [
    "if __name__ == '__main__':\n",
    "\n",
    "    selecionados = []\n",
    "    population = [[6,1,0,4,3,0,4,0],[6,1,6,4,3,0,4,3],[1,1,0,4,3,0,4,0],[6,1,6,4,3,0,4,6]]\n",
    "    #print(\"Initial population:\", population)\n",
    "    \n",
    "    limit = 10000\n",
    "    end = False\n",
    "    generation = 0\n",
    "\n",
    "    while end != True:\n",
    "\n",
    "        aptitude = fitnessPopulation(population)\n",
    "        population = nextGeneration(aptitude, population) \n",
    "        \n",
    "        if population[0] == population[1] and population[1] == population[2] and population[2] == population[3]:\n",
    "            print(\"Convergence\")\n",
    "            end = True\n",
    "\n",
    "        if aptitude[3]==28:\n",
    "            print(\"You got it\")\n",
    "            print(\"Generation\",generation)\n",
    "            end = True\n",
    "\n",
    "        if generation > limit:\n",
    "            print(\"Limit of generations reached\")\n",
    "            end = True\n",
    "                    \n",
    "        result = population[3]\n",
    "\n",
    "        generation += 1\n",
    "\n",
    "    print(\"Result: \", result, \"Aptitude:\", aptitude[3])"
   ]
  },
  {
   "cell_type": "code",
   "execution_count": null,
   "metadata": {},
   "outputs": [],
   "source": []
  },
  {
   "cell_type": "code",
   "execution_count": null,
   "metadata": {},
   "outputs": [],
   "source": []
  },
  {
   "cell_type": "code",
   "execution_count": null,
   "metadata": {},
   "outputs": [],
   "source": []
  },
  {
   "cell_type": "code",
   "execution_count": null,
   "metadata": {},
   "outputs": [],
   "source": []
  }
 ],
 "metadata": {
  "kernelspec": {
   "display_name": "Python 3",
   "language": "python",
   "name": "python3"
  },
  "language_info": {
   "codemirror_mode": {
    "name": "ipython",
    "version": 3
   },
   "file_extension": ".py",
   "mimetype": "text/x-python",
   "name": "python",
   "nbconvert_exporter": "python",
   "pygments_lexer": "ipython3",
   "version": "3.7.3"
  }
 },
 "nbformat": 4,
 "nbformat_minor": 2
}
